{
 "cells": [
  {
   "cell_type": "markdown",
   "metadata": {},
   "source": [
    "# Balanced Parentheses Check\n",
    "## Problem\n",
    "Given a string of opening and closing parentheses, check whether it's balanced. There are 3 types of parentheses: round brackets (), square brackets [], and curly brackets {}. Balanced parentheses require every opening parentheses to be closed in the reverse order opened. For example, '([])' is balanced but '([)]' is not."
   ]
  },
  {
   "cell_type": "markdown",
   "metadata": {},
   "source": [
    "## Solution "
   ]
  },
  {
   "cell_type": "code",
   "execution_count": 2,
   "metadata": {},
   "outputs": [],
   "source": [
    "def balanced_parentheses(s):\n",
    "    open_parentheses = set('([{')\n",
    "    close_parentheses = set(')]}')\n",
    "    matches = set([('(', ')'), ('[', ']'), ('{', '}')])\n",
    "    \n",
    "    \n",
    "    stack = []\n",
    "   \n",
    "    for char in s:\n",
    "        if char in open_parentheses:\n",
    "            stack.append(char)\n",
    "        elif char in close_parentheses:\n",
    "            if len(stack) == 0:\n",
    "                return False\n",
    "            if (stack.pop(), char) not in matches:\n",
    "                return False\n",
    "    \n",
    "    return len(stack) == 0"
   ]
  },
  {
   "cell_type": "markdown",
   "metadata": {},
   "source": [
    "## Tests"
   ]
  },
  {
   "cell_type": "code",
   "execution_count": 3,
   "metadata": {},
   "outputs": [
    {
     "name": "stdout",
     "output_type": "stream",
     "text": [
      "ALL TEST CASES PASSED\n"
     ]
    }
   ],
   "source": [
    "from nose.tools import assert_equal\n",
    "\n",
    "class BalancedParenthesesTest(object):\n",
    "    \n",
    "    def test(self, solution):\n",
    "        assert_equal(solution('[]'), True)\n",
    "        assert_equal(solution('[](){([[[]]])}'), True)\n",
    "        assert_equal(solution('[{{{(())}}}]((()))'), True)\n",
    "        assert_equal(solution('[[[]]]]'), False)\n",
    "        assert_equal(solution('()(){]}'), False)\n",
    "        assert_equal(solution('I am person. (XXX [that is what my friends call me.])'), True)\n",
    "        \n",
    "        print('ALL TEST CASES PASSED')\n",
    "\n",
    "# Run the Tests\n",
    "t = BalancedParenthesesTest()\n",
    "t.test(balanced_parentheses)"
   ]
  }
 ],
 "metadata": {
  "kernelspec": {
   "display_name": "Python 3",
   "language": "python",
   "name": "python3"
  },
  "language_info": {
   "codemirror_mode": {
    "name": "ipython",
    "version": 3
   },
   "file_extension": ".py",
   "mimetype": "text/x-python",
   "name": "python",
   "nbconvert_exporter": "python",
   "pygments_lexer": "ipython3",
   "version": "3.7.0"
  }
 },
 "nbformat": 4,
 "nbformat_minor": 2
}
