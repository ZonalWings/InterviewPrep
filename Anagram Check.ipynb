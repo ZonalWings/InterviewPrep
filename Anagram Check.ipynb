{
 "cells": [
  {
   "cell_type": "markdown",
   "metadata": {},
   "source": [
    "# Anagram Check\n",
    "## Problem\n",
    "Given 2 strings, check to see if they are anagrams. An anagram is when 2 strings can be written using the exact same letters (so you can just rearrage the letters to get a different phrase or word).\n",
    "\n",
    "For example:\n",
    "\"plublic relatins\" is an anagram of \"crap built on lies\"\n",
    "\n",
    "\"clint eastwood\" is an anagram of \"old west action\"\n",
    "\n",
    "**Note: Ignore spaces and capitalization. So \"d go\" is an anagram of \"God\"\n",
    "and \"dog\" and \"o d g\".**\n"
   ]
  },
  {
   "cell_type": "markdown",
   "metadata": {},
   "source": [
    "## Solution "
   ]
  },
  {
   "cell_type": "code",
   "execution_count": 1,
   "metadata": {},
   "outputs": [],
   "source": [
    "def anagram(s1, s2):\n",
    "    s1 = s1.lower().replace(' ', '')\n",
    "    s2 = s2.lower().replace(' ', '')\n",
    "    \n",
    "    if len(s1) != len(s1):\n",
    "        return False\n",
    "    \n",
    "    letters = {}\n",
    "    \n",
    "    for letter in s1:\n",
    "        if letter not in letters:\n",
    "            letters[letter] = 1\n",
    "        else:\n",
    "            letters[letter] += 1\n",
    "            \n",
    "    for letter in s2:\n",
    "        if letter not in letters:\n",
    "            return False\n",
    "        if letters[letter] == 1:\n",
    "            del letters[letter]\n",
    "        else:\n",
    "            letters[letter] -= 1\n",
    "            \n",
    "    return not bool(letters)\n",
    "        "
   ]
  },
  {
   "cell_type": "code",
   "execution_count": 2,
   "metadata": {},
   "outputs": [
    {
     "data": {
      "text/plain": [
       "True"
      ]
     },
     "execution_count": 2,
     "metadata": {},
     "output_type": "execute_result"
    }
   ],
   "source": [
    "anagram('dog', 'god')"
   ]
  },
  {
   "cell_type": "code",
   "execution_count": 3,
   "metadata": {},
   "outputs": [
    {
     "data": {
      "text/plain": [
       "True"
      ]
     },
     "execution_count": 3,
     "metadata": {},
     "output_type": "execute_result"
    }
   ],
   "source": [
    "anagram('clint eastwood', 'old west action')"
   ]
  },
  {
   "cell_type": "code",
   "execution_count": 4,
   "metadata": {},
   "outputs": [
    {
     "data": {
      "text/plain": [
       "False"
      ]
     },
     "execution_count": 4,
     "metadata": {},
     "output_type": "execute_result"
    }
   ],
   "source": [
    "anagram('aa', 'bb')"
   ]
  },
  {
   "cell_type": "markdown",
   "metadata": {},
   "source": [
    "##  Tests\n",
    "\n",
    "Run the cell below to test the solution."
   ]
  },
  {
   "cell_type": "code",
   "execution_count": 5,
   "metadata": {},
   "outputs": [
    {
     "name": "stdout",
     "output_type": "stream",
     "text": [
      "ALL TEST CASES PASSED\n"
     ]
    }
   ],
   "source": [
    "\"\"\" Run this cell to test your solution.\"\"\"\n",
    "\n",
    "from nose.tools import assert_equal\n",
    "\n",
    "class AnagramTest(object):\n",
    "    \n",
    "    def test(self, solution):\n",
    "        assert_equal(solution('go go go', 'gggooo'), True)\n",
    "        assert_equal(solution('abc', 'cba'), True)\n",
    "        assert_equal(solution('hi man', 'hi    man'), True)\n",
    "        assert_equal(solution('aabbcc', 'aabbc'), False)\n",
    "        assert_equal(solution('123', '1 2'), False)\n",
    "        print('ALL TEST CASES PASSED')\n",
    "        \n",
    "# Run Tests\n",
    "t = AnagramTest()\n",
    "t.test(anagram)"
   ]
  }
 ],
 "metadata": {
  "kernelspec": {
   "display_name": "Python 3",
   "language": "python",
   "name": "python3"
  },
  "language_info": {
   "codemirror_mode": {
    "name": "ipython",
    "version": 3
   },
   "file_extension": ".py",
   "mimetype": "text/x-python",
   "name": "python",
   "nbconvert_exporter": "python",
   "pygments_lexer": "ipython3",
   "version": "3.7.0"
  }
 },
 "nbformat": 4,
 "nbformat_minor": 2
}
