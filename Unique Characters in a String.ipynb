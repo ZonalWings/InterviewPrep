{
 "cells": [
  {
   "cell_type": "markdown",
   "metadata": {},
   "source": [
    "# Unique Characters in String\n",
    "## Problem\n",
    "Given a string, determine if it is comprised of all unique characters. For example, the string 'abcde' has all unique chatacters and should return True. The string 'aabcde' contains duplicate characters and should return False."
   ]
  },
  {
   "cell_type": "markdown",
   "metadata": {},
   "source": [
    "## Solution"
   ]
  },
  {
   "cell_type": "code",
   "execution_count": 6,
   "metadata": {},
   "outputs": [],
   "source": [
    "def unique_characters(s):\n",
    "    chars = set()\n",
    "    \n",
    "    for char in s:\n",
    "        if char in chars:\n",
    "            return False\n",
    "        else:\n",
    "            chars.add(char)\n",
    "    \n",
    "    return True"
   ]
  },
  {
   "cell_type": "markdown",
   "metadata": {},
   "source": [
    "## Tests"
   ]
  },
  {
   "cell_type": "code",
   "execution_count": 7,
   "metadata": {},
   "outputs": [
    {
     "name": "stdout",
     "output_type": "stream",
     "text": [
      "ALL TEST CASES PASSED\n"
     ]
    }
   ],
   "source": [
    "from nose.tools import assert_equal\n",
    "\n",
    "class UniqueCharactersTest(object):\n",
    "    \n",
    "    def test(self, solution):\n",
    "        assert_equal(solution(''), True)\n",
    "        assert_equal(solution('goo'), False)\n",
    "        assert_equal(solution('abcdefg'), True)\n",
    "        \n",
    "        print('ALL TEST CASES PASSED')\n",
    "        \n",
    "# Run Tests\n",
    "t = UniqueCharactersTest()\n",
    "t.test(unique_characters)"
   ]
  }
 ],
 "metadata": {
  "kernelspec": {
   "display_name": "Python 3",
   "language": "python",
   "name": "python3"
  },
  "language_info": {
   "codemirror_mode": {
    "name": "ipython",
    "version": 3
   },
   "file_extension": ".py",
   "mimetype": "text/x-python",
   "name": "python",
   "nbconvert_exporter": "python",
   "pygments_lexer": "ipython3",
   "version": "3.6.4"
  }
 },
 "nbformat": 4,
 "nbformat_minor": 2
}
