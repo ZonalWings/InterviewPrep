{
 "cells": [
  {
   "cell_type": "markdown",
   "metadata": {},
   "source": [
    "# Largest Continuous Sum\n",
    "## Problem\n",
    "Given an array of integers (positive and negative) find the largest continuous sum."
   ]
  },
  {
   "cell_type": "markdown",
   "metadata": {},
   "source": [
    "## Solution"
   ]
  },
  {
   "cell_type": "code",
   "execution_count": 18,
   "metadata": {},
   "outputs": [],
   "source": [
    "def largest_continuous_sum(arr):\n",
    "    # We will keep 2 sums\n",
    "    # 1. The max sum thus far\n",
    "    # 2. The potential next max sum (the current sum)\n",
    "    \n",
    "    max_start = 0\n",
    "    max_end = 0\n",
    "    max_sum = arr[0]\n",
    "    \n",
    "    curr_start = 0\n",
    "    curr_end = 0\n",
    "    curr_sum = arr[0]\n",
    "    \n",
    "    for i in range(1, len(arr)):\n",
    "        if arr[i] > curr_sum + arr[i]:\n",
    "            curr_sum = arr[i]\n",
    "            curr_start = i\n",
    "        else:\n",
    "            curr_sum += arr[i]\n",
    "        curr_end = i\n",
    "        \n",
    "        if curr_sum > max_sum:\n",
    "            max_sum = curr_sum\n",
    "            max_start = curr_start\n",
    "            max_end = curr_end\n",
    "        \n",
    "    # return max_sum\n",
    "    return (arr[max_start:max_end+1], max_sum)"
   ]
  },
  {
   "cell_type": "code",
   "execution_count": 19,
   "metadata": {},
   "outputs": [
    {
     "data": {
      "text/plain": [
       "([1, 2, -1, 3, 4, 10, 10], 29)"
      ]
     },
     "execution_count": 19,
     "metadata": {},
     "output_type": "execute_result"
    }
   ],
   "source": [
    "largest_continuous_sum([1, 2, -1, 3, 4, 10, 10, -10, -1])"
   ]
  },
  {
   "cell_type": "markdown",
   "metadata": {},
   "source": [
    "## Tests"
   ]
  },
  {
   "cell_type": "code",
   "execution_count": 20,
   "metadata": {},
   "outputs": [
    {
     "name": "stdout",
     "output_type": "stream",
     "text": [
      "ALL TEST CASES PASSED\n"
     ]
    }
   ],
   "source": [
    "from nose.tools import assert_equal\n",
    "\n",
    "class LargestContinuousSumTest(object):\n",
    "    \n",
    "    def test(self, solution):\n",
    "        assert_equal(solution([1, 2, -1, 3, 4, -1]), ([1, 2, -1, 3, 4], 9))\n",
    "        assert_equal(solution([1, 2, -1, 3, 4, 10, 10, -10, -1]), \n",
    "                     ([1, 2, -1, 3, 4, 10, 10], 29))\n",
    "        assert_equal(solution([-1, 1]), ([1], 1))\n",
    "        \n",
    "        print('ALL TEST CASES PASSED')\n",
    "        \n",
    "# Run tests\n",
    "t = LargestContinuousSumTest()\n",
    "t.test(largest_continuous_sum)"
   ]
  }
 ],
 "metadata": {
  "kernelspec": {
   "display_name": "Python 3",
   "language": "python",
   "name": "python3"
  },
  "language_info": {
   "codemirror_mode": {
    "name": "ipython",
    "version": 3
   },
   "file_extension": ".py",
   "mimetype": "text/x-python",
   "name": "python",
   "nbconvert_exporter": "python",
   "pygments_lexer": "ipython3",
   "version": "3.7.0"
  }
 },
 "nbformat": 4,
 "nbformat_minor": 2
}
