{
 "cells": [
  {
   "cell_type": "markdown",
   "metadata": {},
   "source": [
    "# Find the Missing Element\n",
    "## Problem\n",
    "Consider an array of non-negative integers. A second array is fromed by shuffling the elements of the first array and deleting a random element. Given these two arrays, find which element is missing in the second array.\n",
    "\n",
    "Here is an example input, the first array is shuffled and the number 5 is removed to construct the second array.\n",
    "\n",
    "Input:\n",
    "```python\n",
    "finder([1, 2, 3, 4, 5, 6, 7], [3, 7, 2, 1, 4, 6])\n",
    "```\n",
    "\n",
    "Output: \n",
    "\n",
    "    5 is the missing number.\n"
   ]
  },
  {
   "cell_type": "markdown",
   "metadata": {},
   "source": [
    "## Clever Solution\n",
    "\n",
    "We can use a clever trick involving the XOR function to solve this problem.\n",
    "\n",
    "XOR is associative\n",
    "```python\n",
    "a ^ b = b ^ a\n",
    "```\n",
    "\n",
    "and XOR is commutive.\n",
    "\n",
    "```python\n",
    "(a ^ b) ^ c = a ^ (b ^ c)\n",
    "```\n",
    "\n",
    "Using the following 2 facts, we can easily solve this problem.\n",
    "\n",
    "```python\n",
    "x ^ x = 0\n",
    "```\n",
    "\n",
    "and\n",
    "\n",
    "```python\n",
    "0 ^ y = y\n",
    "```"
   ]
  },
  {
   "cell_type": "code",
   "execution_count": 1,
   "metadata": {},
   "outputs": [],
   "source": [
    "def xor_finder(arr1, arr2):\n",
    "    result = 0\n",
    "    for num in arr1 + arr2:\n",
    "        result ^= num\n",
    "    return result"
   ]
  },
  {
   "cell_type": "markdown",
   "metadata": {},
   "source": [
    "## Solution"
   ]
  },
  {
   "cell_type": "code",
   "execution_count": 2,
   "metadata": {},
   "outputs": [],
   "source": [
    "def finder(arr1, arr2):\n",
    "    numbers = {}\n",
    "    for num in arr2:\n",
    "        if num in numbers:\n",
    "            numbers[num] += 1\n",
    "        else:\n",
    "            numbers[num] = 1\n",
    "            \n",
    "    for num in arr1:\n",
    "        if num not in numbers:\n",
    "            return num\n",
    "        if numbers[num] == 1:\n",
    "            del numbers[num]\n",
    "        else:\n",
    "            numbers[num] -= 1"
   ]
  },
  {
   "cell_type": "markdown",
   "metadata": {},
   "source": [
    "## Tests\n",
    "Run the cell below to test the solution."
   ]
  },
  {
   "cell_type": "code",
   "execution_count": 3,
   "metadata": {},
   "outputs": [
    {
     "name": "stdout",
     "output_type": "stream",
     "text": [
      "ALL TESTS PASSED\n",
      "ALL TESTS PASSED\n"
     ]
    }
   ],
   "source": [
    "from nose.tools import assert_equal\n",
    "\n",
    "class FinderTest(object):\n",
    "    \n",
    "    def test(self, solution):\n",
    "        assert_equal(finder([1, 2, 3, 4, 5, 6, 7], [3, 7, 2, 1, 4, 6]), 5)\n",
    "        assert_equal(finder([5, 5, 7, 7], [5, 7, 7]), 5)\n",
    "        assert_equal(finder([9, 8, 7, 6, 5, 4, 3, 2, 1], [9, 8, 7, 5, 4, 3, 2, 1]), 6)\n",
    "        \n",
    "        print('ALL TESTS PASSED')\n",
    "        \n",
    "# Run the tests\n",
    "t = FinderTest()\n",
    "t.test(xor_finder)\n",
    "t.test(finder)\n",
    "        "
   ]
  }
 ],
 "metadata": {
  "kernelspec": {
   "display_name": "Python 3",
   "language": "python",
   "name": "python3"
  },
  "language_info": {
   "codemirror_mode": {
    "name": "ipython",
    "version": 3
   },
   "file_extension": ".py",
   "mimetype": "text/x-python",
   "name": "python",
   "nbconvert_exporter": "python",
   "pygments_lexer": "ipython3",
   "version": "3.7.0"
  }
 },
 "nbformat": 4,
 "nbformat_minor": 2
}
