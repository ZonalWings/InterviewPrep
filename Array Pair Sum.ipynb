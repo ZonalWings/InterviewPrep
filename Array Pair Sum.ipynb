{
 "cells": [
  {
   "cell_type": "markdown",
   "metadata": {},
   "source": [
    "# Array Pair Sum\n",
    "## Problem\n",
    "Given an array, output all the unique pairs that sum up to a specific value **k**. \n",
    "\n",
    "So the input:\n",
    "\n",
    "```python\n",
    "pair_sum([1, 3, 2, 2], 4)\n",
    "```\n",
    "\n",
    "would return **2** pairs:\n",
    "\n",
    "    (1, 3)\n",
    "    (2, 2)\n",
    "    "
   ]
  },
  {
   "cell_type": "markdown",
   "metadata": {},
   "source": [
    "## Solution "
   ]
  },
  {
   "cell_type": "code",
   "execution_count": 32,
   "metadata": {},
   "outputs": [],
   "source": [
    "def pair_sum(lst, k):\n",
    "    \n",
    "    # Use a set becuase we want unique pairs.\n",
    "    pairs = set()\n",
    "    \n",
    "    # Sanity check\n",
    "    if len(lst) < 2:\n",
    "        return pairs\n",
    "    \n",
    "    # Set for tracking seen numbers\n",
    "    seen = set()\n",
    "    \n",
    "    for x in lst:\n",
    "        target = k - x\n",
    "        \n",
    "        if target in seen:\n",
    "            pair = (target, x) if (x > target) else (x, target)\n",
    "            pairs.add(pair)\n",
    "            seen.remove(target)\n",
    "        else:\n",
    "            seen.add(x)\n",
    "            \n",
    "    return pairs"
   ]
  },
  {
   "cell_type": "markdown",
   "metadata": {},
   "source": [
    "## Tests\n",
    "Run the cell below to test the solution."
   ]
  },
  {
   "cell_type": "code",
   "execution_count": 33,
   "metadata": {},
   "outputs": [
    {
     "name": "stdout",
     "output_type": "stream",
     "text": [
      "ALL TEST CASES PASSED\n"
     ]
    }
   ],
   "source": [
    "from nose.tools import assert_equal\n",
    "\n",
    "class PairSumTest(object):\n",
    "    def test(self, solution):\n",
    "        assert_equal(solution([1, 3, 2, 2], 4), {(1, 3), (2, 2)})\n",
    "        assert_equal(solution([1, 2, 3, 4, 5, 4, 3, 2, 9, 6, 1, 0], 5),\n",
    "                             {(2, 3), (1, 4), (0, 5)})\n",
    "        print('ALL TEST CASES PASSED')\n",
    "\n",
    "# Run the tests\n",
    "t = PairSumTest()\n",
    "t.test(pair_sum)"
   ]
  },
  {
   "cell_type": "code",
   "execution_count": null,
   "metadata": {},
   "outputs": [],
   "source": []
  }
 ],
 "metadata": {
  "kernelspec": {
   "display_name": "Python 3",
   "language": "python",
   "name": "python3"
  },
  "language_info": {
   "codemirror_mode": {
    "name": "ipython",
    "version": 3
   },
   "file_extension": ".py",
   "mimetype": "text/x-python",
   "name": "python",
   "nbconvert_exporter": "python",
   "pygments_lexer": "ipython3",
   "version": "3.7.0"
  }
 },
 "nbformat": 4,
 "nbformat_minor": 2
}
