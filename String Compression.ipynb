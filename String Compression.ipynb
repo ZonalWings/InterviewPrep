{
 "cells": [
  {
   "cell_type": "markdown",
   "metadata": {},
   "source": [
    "# String Compression\n",
    "## Problem\n",
    "Given a string in the form 'AAAABBBBCCCCCDDEEEE' compress it to become 'A4B4C5D2E4'. For this problem, you can falsely \"compress\" strings of single or double letters. For instance, it is okay for 'AAB' to return 'A2B1' even though this technically takes more space.\n",
    "\n",
    "The function should also be case sensitive, so that a string 'AAAaaa' returns 'A3a3'."
   ]
  },
  {
   "cell_type": "markdown",
   "metadata": {},
   "source": [
    "## Solution"
   ]
  },
  {
   "cell_type": "code",
   "execution_count": 17,
   "metadata": {},
   "outputs": [],
   "source": [
    "def compress_string(s):\n",
    "    count = 1\n",
    "    compressed_string = ''\n",
    "    \n",
    "    # Sanity check\n",
    "    if len(s) == 0:\n",
    "        return compressed_string\n",
    "    \n",
    "    for i in range(1, len(s)):\n",
    "        if s[i] == s[i - 1]:\n",
    "            count += 1\n",
    "        else:\n",
    "            compressed_string += s[i - 1] + str(count)\n",
    "            count = 1\n",
    "            \n",
    "    compressed_string += s[-1] + str(count)\n",
    "    \n",
    "    return compressed_string"
   ]
  },
  {
   "cell_type": "code",
   "execution_count": 18,
   "metadata": {},
   "outputs": [
    {
     "data": {
      "text/plain": [
       "'A5B4C4'"
      ]
     },
     "execution_count": 18,
     "metadata": {},
     "output_type": "execute_result"
    }
   ],
   "source": [
    "compress_string('AAAAABBBBCCCC')"
   ]
  },
  {
   "cell_type": "markdown",
   "metadata": {},
   "source": [
    "## Tests"
   ]
  },
  {
   "cell_type": "code",
   "execution_count": 21,
   "metadata": {},
   "outputs": [
    {
     "name": "stdout",
     "output_type": "stream",
     "text": [
      "ALL TEST CASES PASSED\n"
     ]
    }
   ],
   "source": [
    "from nose.tools import assert_equal\n",
    "\n",
    "class StringCompressionTest(object):\n",
    "    \n",
    "    def test(self, solution):\n",
    "        assert_equal(solution(''), '')\n",
    "        assert_equal(solution('A'), 'A1')\n",
    "        assert_equal(solution('AABBCC'), 'A2B2C2')\n",
    "        assert_equal(solution('AAABCCDDDDD'), 'A3B1C2D5')\n",
    "        assert_equal(solution('aaaAAA'), 'a3A3')\n",
    "        \n",
    "        print('ALL TEST CASES PASSED')\n",
    "\n",
    "# Run tests\n",
    "t = StringCompressionTest()\n",
    "t.test(compress_string)"
   ]
  }
 ],
 "metadata": {
  "kernelspec": {
   "display_name": "Python 3",
   "language": "python",
   "name": "python3"
  },
  "language_info": {
   "codemirror_mode": {
    "name": "ipython",
    "version": 3
   },
   "file_extension": ".py",
   "mimetype": "text/x-python",
   "name": "python",
   "nbconvert_exporter": "python",
   "pygments_lexer": "ipython3",
   "version": "3.6.4"
  }
 },
 "nbformat": 4,
 "nbformat_minor": 2
}
