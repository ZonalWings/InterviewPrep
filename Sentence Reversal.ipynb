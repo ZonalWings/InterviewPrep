{
 "cells": [
  {
   "cell_type": "markdown",
   "metadata": {},
   "source": [
    "# Sentence Reversal \n",
    "## Problem\n",
    "Given a string of words, reverse all the words. For example:\n",
    "\n",
    "Given:\n",
    "\n",
    "    'This is the best'\n",
    "   \n",
    "Return:\n",
    "    \n",
    "    'best the is This'\n",
    "\n",
    "As a part of this exercise, you should also remove all leading and trailing whitespaces. So that inputs such as:\n",
    "\n",
    "    '   space here' and 'space here    '\n",
    "\n",
    "both become:\n",
    "    \n",
    "    'here space'"
   ]
  },
  {
   "cell_type": "markdown",
   "metadata": {},
   "source": [
    "## Solution"
   ]
  },
  {
   "cell_type": "code",
   "execution_count": 3,
   "metadata": {},
   "outputs": [],
   "source": [
    "def reverse_sentence(sentence):\n",
    "    \n",
    "    words = []\n",
    "    i = 0\n",
    "    while i < len(sentence):\n",
    "        if sentence[i] != ' ':\n",
    "            word_start = i\n",
    "            \n",
    "            while i < len(sentence) and sentence[i] != ' ':\n",
    "                i += 1\n",
    "            \n",
    "            words.append(sentence[word_start:i])\n",
    "        \n",
    "        i += 1\n",
    "  \n",
    "    return ' '.join(reversed(words))"
   ]
  },
  {
   "cell_type": "markdown",
   "metadata": {},
   "source": [
    "## Pythonic Solutions"
   ]
  },
  {
   "cell_type": "code",
   "execution_count": 4,
   "metadata": {},
   "outputs": [],
   "source": [
    "def rev_sentence2(s):\n",
    "    return ' '.join(reversed(s.split()))\n",
    "\n",
    "def rev_sentence3(s):\n",
    "    return ' '.join(s.split()[::-1])"
   ]
  },
  {
   "cell_type": "markdown",
   "metadata": {},
   "source": [
    "## Tests"
   ]
  },
  {
   "cell_type": "code",
   "execution_count": 6,
   "metadata": {},
   "outputs": [
    {
     "name": "stdout",
     "output_type": "stream",
     "text": [
      "ALL TEST CASES PASSED\n",
      "ALL TEST CASES PASSED\n",
      "ALL TEST CASES PASSED\n"
     ]
    }
   ],
   "source": [
    "from nose.tools import assert_equal\n",
    "\n",
    "class ReverseSentenceTest(object):\n",
    "    \n",
    "    def test(self, solution):\n",
    "        assert_equal(solution('    space before'), 'before space')\n",
    "        assert_equal(solution('space after    '), 'after space')\n",
    "        assert_equal(solution('   Hello John   how are you   '), 'you are how John Hello')\n",
    "        assert_equal(solution('1'), '1')\n",
    "        \n",
    "        print('ALL TEST CASES PASSED')\n",
    "        \n",
    "# Run the tests\n",
    "t = ReverseSentenceTest()\n",
    "t.test(reverse_sentence)\n",
    "t.test(rev_sentence2)\n",
    "t.test(rev_sentence3)\n",
    "        "
   ]
  }
 ],
 "metadata": {
  "kernelspec": {
   "display_name": "Python 3",
   "language": "python",
   "name": "python3"
  },
  "language_info": {
   "codemirror_mode": {
    "name": "ipython",
    "version": 3
   },
   "file_extension": ".py",
   "mimetype": "text/x-python",
   "name": "python",
   "nbconvert_exporter": "python",
   "pygments_lexer": "ipython3",
   "version": "3.7.0"
  }
 },
 "nbformat": 4,
 "nbformat_minor": 2
}
